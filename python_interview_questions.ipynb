{
  "nbformat": 4,
  "nbformat_minor": 0,
  "metadata": {
    "colab": {
      "provenance": [],
      "authorship_tag": "ABX9TyPL06R+h/Ict2uW2G5s07fw",
      "include_colab_link": true
    },
    "kernelspec": {
      "name": "python3",
      "display_name": "Python 3"
    },
    "language_info": {
      "name": "python"
    }
  },
  "cells": [
    {
      "cell_type": "markdown",
      "metadata": {
        "id": "view-in-github",
        "colab_type": "text"
      },
      "source": [
        "<a href=\"https://colab.research.google.com/github/bhavani-018/Python-Practice/blob/main/python_interview_questions.ipynb\" target=\"_parent\"><img src=\"https://colab.research.google.com/assets/colab-badge.svg\" alt=\"Open In Colab\"/></a>"
      ]
    },
    {
      "cell_type": "markdown",
      "source": [
        "13-10-25"
      ],
      "metadata": {
        "id": "aelGMxu23ITY"
      }
    },
    {
      "cell_type": "code",
      "source": [
        "# reverse a string\n",
        "word=\"Dhoni loves india\"\n",
        "a=word.split()\n",
        "a.reverse()\n",
        "print(a)\n",
        "print(\" \".join(a))\n"
      ],
      "metadata": {
        "colab": {
          "base_uri": "https://localhost:8080/"
        },
        "id": "mKhQwYVg3L8r",
        "outputId": "189c8f6c-76f8-4060-9374-9d51c5c4657e"
      },
      "execution_count": null,
      "outputs": [
        {
          "output_type": "stream",
          "name": "stdout",
          "text": [
            "['india', 'loves', 'Dhoni']\n",
            "india loves Dhoni\n"
          ]
        }
      ]
    },
    {
      "cell_type": "code",
      "source": [
        "# Problem Statement\n",
        "\n",
        "# Given an absolute path for a file (Unix-style), simplify it.\n",
        "\n",
        "# A . means current directory.\n",
        "\n",
        "# A .. means move up one directory.\n",
        "\n",
        "# Multiple consecutive slashes / are treated as a single /.\n",
        "\n",
        "# The result must always start with a single / and not end with a trailing slash (unless it’s just the root).\n",
        "# Input: \"/a/./b/../../c/\" Output: \"/c\"\n",
        "\n",
        "a=\"a/./b/../../c/\"\n",
        "b=a.split(\"/\")\n",
        "print(b)\n",
        "l=[]\n",
        "for i in b:\n",
        "  if i==\"\" or i==\".\":\n",
        "    continue\n",
        "  elif i==\"..\":\n",
        "    if l:\n",
        "      l.pop()\n",
        "  else:\n",
        "   l.append(i)\n",
        "  print(l)\n",
        "print(\"/\"+\"/\".join(l))\n",
        "\n",
        "\n",
        "\n"
      ],
      "metadata": {
        "colab": {
          "base_uri": "https://localhost:8080/"
        },
        "id": "_Q_eTqjm8lT0",
        "outputId": "d611572f-fdd4-40c5-abb0-a899170f4584"
      },
      "execution_count": null,
      "outputs": [
        {
          "output_type": "stream",
          "name": "stdout",
          "text": [
            "['a', '.', 'b', '..', '..', 'c', '']\n",
            "['a']\n",
            "['a', 'b']\n",
            "['a']\n",
            "[]\n",
            "['c']\n",
            "/c\n"
          ]
        }
      ]
    },
    {
      "cell_type": "code",
      "source": [
        "words = [\"eat\", \"tea\", \"tan\", \"ate\", \"nat\", \"bat\"]\n",
        "\n",
        "d={}\n",
        "for i in words:"
      ],
      "metadata": {
        "id": "MesR08-XBqTZ"
      },
      "execution_count": null,
      "outputs": []
    },
    {
      "cell_type": "markdown",
      "source": [
        "12-10-25\n"
      ],
      "metadata": {
        "id": "JMKd2MbWnGUY"
      }
    },
    {
      "cell_type": "code",
      "source": [
        "\n",
        "arr = [0, 1, 2, 0, 1, 2]\n",
        "print(sorted(arr))\n",
        "a=arr.sort()\n",
        "print(a)"
      ],
      "metadata": {
        "colab": {
          "base_uri": "https://localhost:8080/"
        },
        "id": "_HM2yD74nJHQ",
        "outputId": "017cfd3d-6b95-4d91-ca73-a62d3864f0dc"
      },
      "execution_count": 1,
      "outputs": [
        {
          "output_type": "stream",
          "name": "stdout",
          "text": [
            "[0, 0, 1, 1, 2, 2]\n",
            "None\n"
          ]
        }
      ]
    },
    {
      "cell_type": "code",
      "source": [
        "arr=[0,1,4,3,8,2]\n",
        "for i in range(0,len(arr)-1):\n",
        "  for j in range(i,len(arr)-1):\n",
        "    if arr[j]<arr[j+1]:\n",
        "      continue\n",
        "    elif arr[j]>arr[j+1]:\n",
        "      arr[j],arr[j+1]=arr[j+1],arr[j]\n",
        "  print(arr)\n",
        "print(arr)"
      ],
      "metadata": {
        "colab": {
          "base_uri": "https://localhost:8080/"
        },
        "id": "XqbpEm8e5aqf",
        "outputId": "3b3c3efd-e1e6-4414-96b9-a58cd5923c58"
      },
      "execution_count": null,
      "outputs": [
        {
          "output_type": "stream",
          "name": "stdout",
          "text": [
            "[0, 1, 3, 4, 2, 8]\n",
            "[0, 1, 3, 2, 4, 8]\n",
            "[0, 1, 2, 3, 4, 8]\n",
            "[0, 1, 2, 3, 4, 8]\n",
            "[0, 1, 2, 3, 4, 8]\n",
            "[0, 1, 2, 3, 4, 8]\n"
          ]
        }
      ]
    },
    {
      "cell_type": "markdown",
      "source": [
        "**python interview questions**\n",
        "**1-08-2025**"
      ],
      "metadata": {
        "id": "f311ZnA9CTDf"
      }
    },
    {
      "cell_type": "code",
      "execution_count": null,
      "metadata": {
        "colab": {
          "base_uri": "https://localhost:8080/"
        },
        "id": "uSWd7F5GCN_K",
        "outputId": "fbe6671c-224e-4c69-8c1c-656dedb0317c"
      },
      "outputs": [
        {
          "output_type": "stream",
          "name": "stdout",
          "text": [
            "inavahb\n"
          ]
        }
      ],
      "source": [
        "#Reverse a string\n",
        "a=\"bhavani\"\n",
        "print(a[::-1])"
      ]
    },
    {
      "cell_type": "code",
      "source": [
        "#reverse a number\n",
        "a=5674\n",
        "rev=0\n",
        "while a>0:\n",
        "  lastdigit=a%10\n",
        "  rev=rev*10 + lastdigit\n",
        "  a//=10\n",
        "print(rev)"
      ],
      "metadata": {
        "colab": {
          "base_uri": "https://localhost:8080/"
        },
        "id": "EYvFxJ4RlPDV",
        "outputId": "c0c91381-4d2f-447c-d449-7e7be5101777"
      },
      "execution_count": null,
      "outputs": [
        {
          "output_type": "stream",
          "name": "stdout",
          "text": [
            "4765\n"
          ]
        }
      ]
    },
    {
      "cell_type": "code",
      "source": [
        "#check palindrome\n",
        "# a=\"malayalam\"\n",
        "a=\"welcome\"\n",
        "if a==a[::-1]:\n",
        "    print('palindrom')\n",
        "else:\n",
        "    print('not palindrome')"
      ],
      "metadata": {
        "colab": {
          "base_uri": "https://localhost:8080/"
        },
        "id": "E0tpw8F_Chqp",
        "outputId": "e3e78917-48d5-441d-a58d-cfc4a590abc0"
      },
      "execution_count": null,
      "outputs": [
        {
          "output_type": "stream",
          "name": "stdout",
          "text": [
            "not palindrome\n"
          ]
        }
      ]
    },
    {
      "cell_type": "code",
      "source": [
        "year = int(input(\"Enter a year: \"))\n",
        "\n",
        "if (year % 4 == 0 and year % 100 != 0) or (year % 400 == 0):\n",
        "    print(f\"{year} is a Leap Year\")\n",
        "else:\n",
        "    print(f\"{year} is NOT a Leap Year\")\n"
      ],
      "metadata": {
        "colab": {
          "base_uri": "https://localhost:8080/"
        },
        "id": "EfM6Jdl7cnGy",
        "outputId": "fb1fbb31-963f-4445-982c-69b8d31dcf97"
      },
      "execution_count": null,
      "outputs": [
        {
          "output_type": "stream",
          "name": "stdout",
          "text": [
            "Enter a year: 2024\n",
            "2024 is a Leap Year\n"
          ]
        }
      ]
    },
    {
      "cell_type": "code",
      "source": [
        "#factorial\n",
        "def fact(n):\n",
        "  if n==0 or n==1:\n",
        "    return 1\n",
        "  else:\n",
        "    return n*fact(n-1)\n",
        "print(fact(5))"
      ],
      "metadata": {
        "colab": {
          "base_uri": "https://localhost:8080/"
        },
        "id": "CYOWGDC3EB0f",
        "outputId": "289d423c-511f-4c61-ff03-5a9dee59f2e3"
      },
      "execution_count": null,
      "outputs": [
        {
          "output_type": "stream",
          "name": "stdout",
          "text": [
            "120\n"
          ]
        }
      ]
    },
    {
      "cell_type": "code",
      "source": [
        "#fizzbuzz\n",
        "n=int(input(\"enter the num:\"))\n",
        "if n%3==0 and n%5==0:\n",
        "  print(\"fizzbuzz\")\n",
        "elif n%3==0:\n",
        "  print('fizz')\n",
        "elif n%5==0:\n",
        "  print('buzz')\n",
        "else:\n",
        "  print(n)"
      ],
      "metadata": {
        "colab": {
          "base_uri": "https://localhost:8080/"
        },
        "id": "YHwUMYdnE6KJ",
        "outputId": "fe99bb1d-b4a9-4a83-81f3-5e2fafebee8b"
      },
      "execution_count": null,
      "outputs": [
        {
          "output_type": "stream",
          "name": "stdout",
          "text": [
            "enter the num:17\n",
            "17\n"
          ]
        }
      ]
    },
    {
      "cell_type": "code",
      "source": [
        "#to find max\n",
        "a=[1,3,5,6]\n",
        "large=a[0]\n",
        "for i in a:\n",
        "  if i>large:\n",
        "    large=i\n",
        "print(large)\n",
        "#print(max(a))\n"
      ],
      "metadata": {
        "colab": {
          "base_uri": "https://localhost:8080/"
        },
        "id": "3dRSiO3iGPP_",
        "outputId": "a82b4b6a-a9d8-43a9-aaa7-43cf815c6001"
      },
      "execution_count": null,
      "outputs": [
        {
          "output_type": "stream",
          "name": "stdout",
          "text": [
            "6\n"
          ]
        }
      ]
    },
    {
      "cell_type": "code",
      "source": [
        "#to print the count of vowels:\n",
        "sent=\"i woke up at six\"\n",
        "count=0\n",
        "for c in sent:\n",
        "  if c in 'aeiou':\n",
        "    count+=1\n",
        "print(count)"
      ],
      "metadata": {
        "colab": {
          "base_uri": "https://localhost:8080/"
        },
        "id": "wmOMiPNgG0un",
        "outputId": "bc35d9ac-fffb-42b8-dac6-93d358d5782f"
      },
      "execution_count": null,
      "outputs": [
        {
          "output_type": "stream",
          "name": "stdout",
          "text": [
            "6\n"
          ]
        }
      ]
    },
    {
      "cell_type": "code",
      "source": [
        "#to remove duplicates\n",
        "\n",
        "# def remove_duplicates(lst):\n",
        "#     return (set(lst))\n",
        "\n",
        "# print(remove_duplicates([1, 2, 2, 3]))\n",
        "\n",
        "a=[3,4,6,6,6,5,4]\n",
        "print(list(set(a)))"
      ],
      "metadata": {
        "colab": {
          "base_uri": "https://localhost:8080/"
        },
        "id": "3bXdYkVgIeHg",
        "outputId": "fc74f7f7-9fe6-4245-f2e7-5a219284fe8d"
      },
      "execution_count": null,
      "outputs": [
        {
          "output_type": "stream",
          "name": "stdout",
          "text": [
            "[3, 4, 5, 6]\n"
          ]
        }
      ]
    },
    {
      "cell_type": "code",
      "source": [
        "#list operations\n",
        "a=[3,4,5,5]\n",
        "a.append(8)\n",
        "a=a+[6,7,8]\n",
        "del(a[2])\n",
        "a.insert(0,2)\n",
        "print(a)"
      ],
      "metadata": {
        "colab": {
          "base_uri": "https://localhost:8080/"
        },
        "id": "1XlX6NsAKi-q",
        "outputId": "6b62d93d-d0f5-4cfc-ea88-2292ff0ac5d0"
      },
      "execution_count": null,
      "outputs": [
        {
          "output_type": "stream",
          "name": "stdout",
          "text": [
            "[2, 3, 4, 5, 8, 6, 7, 8]\n"
          ]
        }
      ]
    },
    {
      "cell_type": "code",
      "source": [
        "#fibonaci\n",
        "def fibo(n):\n",
        "  a=0\n",
        "  b=1\n",
        "  res=[]\n",
        "  for i in range(n):\n",
        "    res.append(a)\n",
        "    a,b=b,a+b\n",
        "  return res\n",
        "print(fibo(5))"
      ],
      "metadata": {
        "id": "fE7SrjxeMZnH",
        "colab": {
          "base_uri": "https://localhost:8080/"
        },
        "outputId": "e104133e-4be8-448a-e267-d9e4b2d701aa"
      },
      "execution_count": null,
      "outputs": [
        {
          "output_type": "stream",
          "name": "stdout",
          "text": [
            "[0, 1, 1, 2, 3]\n"
          ]
        }
      ]
    },
    {
      "cell_type": "code",
      "source": [
        "#prime check\n",
        "def prime(n):\n",
        "  if n<=1:\n",
        "    return \"not prime\"\n",
        "  for i in range(2,int(n**0.5)+1):\n",
        "    if n%i==0:\n",
        "      return \"not prime\"\n",
        "  return \"prime\"\n",
        "print(prime(4))\n",
        "\n"
      ],
      "metadata": {
        "colab": {
          "base_uri": "https://localhost:8080/"
        },
        "id": "zcYIwAnstyw5",
        "outputId": "9f12c93f-235a-463c-bbfc-46cbae937c7c"
      },
      "execution_count": null,
      "outputs": [
        {
          "output_type": "stream",
          "name": "stdout",
          "text": [
            "not prime\n"
          ]
        }
      ]
    },
    {
      "cell_type": "code",
      "source": [
        "#to find sec largest\n",
        "a=[1,1,1,1,1]\n",
        "n=len(a)\n",
        "first=a[0]\n",
        "sec=-1\n",
        "for i in range(n):\n",
        "    if a[i]>=first:\n",
        "        first=a[i]\n",
        "print(first)\n",
        "\n",
        "for i in range(n):\n",
        "    if a[i]>=sec and a[i]!=first:\n",
        "        sec=a[i]\n",
        "print(sec)\n",
        "\n",
        "# first=sec=-1\n",
        "# for i in range(len(a)):\n",
        "#   if a[i]>first:\n",
        "#     sec=first\n",
        "#     first=a[i]\n",
        "#   elif a[i]>sec and a[i]!=first:\n",
        "#     sec=a[i]\n",
        "# print(first,sec)"
      ],
      "metadata": {
        "colab": {
          "base_uri": "https://localhost:8080/"
        },
        "id": "GNuhPlZ_3OvY",
        "outputId": "402221d3-bcd2-4ec2-8531-e52661881503"
      },
      "execution_count": null,
      "outputs": [
        {
          "output_type": "stream",
          "name": "stdout",
          "text": [
            "1\n",
            "-1\n"
          ]
        }
      ]
    },
    {
      "cell_type": "code",
      "source": [
        "#to print sum of elements\n",
        "a=[4,7,2,10]\n",
        "summ=0\n",
        "for i in a:\n",
        "  summ+=i\n",
        "print(summ)"
      ],
      "metadata": {
        "colab": {
          "base_uri": "https://localhost:8080/"
        },
        "id": "-Af1-4jC72UY",
        "outputId": "ca072c80-9d79-4478-fdbe-a672e530189c"
      },
      "execution_count": null,
      "outputs": [
        {
          "output_type": "stream",
          "name": "stdout",
          "text": [
            "23\n"
          ]
        }
      ]
    },
    {
      "cell_type": "code",
      "source": [
        "#armstrong number\n",
        "a=563\n",
        "n=len(str(a))\n",
        "temp=a\n",
        "summ=0\n",
        "while temp>0:\n",
        "  digit=temp%10\n",
        "  summ+=digit**n\n",
        "  temp//=10\n",
        "if a==summ:\n",
        "  print(\"armstrong\")\n",
        "else:\n",
        "  print(\"not armstrong\")\n",
        "\n",
        "\n"
      ],
      "metadata": {
        "colab": {
          "base_uri": "https://localhost:8080/"
        },
        "id": "K9X58dkb9XYk",
        "outputId": "09c61427-8739-4cbd-88e9-a223f7a1f0d7"
      },
      "execution_count": null,
      "outputs": [
        {
          "output_type": "stream",
          "name": "stdout",
          "text": [
            "not armstrong\n"
          ]
        }
      ]
    },
    {
      "cell_type": "code",
      "source": [
        "n=5\n",
        "for i in range(n):\n",
        "  for j in range(n):\n",
        "    print('*',end=' ')\n",
        "  print()\n",
        "# print()\n"
      ],
      "metadata": {
        "id": "hLGz5Ej0BVlC",
        "colab": {
          "base_uri": "https://localhost:8080/"
        },
        "outputId": "3f21e7ca-ee89-4ec1-ddd8-30558fca20cb"
      },
      "execution_count": null,
      "outputs": [
        {
          "output_type": "stream",
          "name": "stdout",
          "text": [
            "* * * * * \n",
            "* * * * * \n",
            "* * * * * \n",
            "* * * * * \n",
            "* * * * * \n"
          ]
        }
      ]
    },
    {
      "cell_type": "code",
      "source": [
        "#righthnd\n",
        "n=5\n",
        "for i in range(n):\n",
        "  for j in range(i,n):\n",
        "    print(' ',end='')\n",
        "  for j in range(i+1):\n",
        "     print('*',end='')\n",
        "  print()\n",
        "\n",
        "\n"
      ],
      "metadata": {
        "colab": {
          "base_uri": "https://localhost:8080/"
        },
        "id": "RBw7-m03uVov",
        "outputId": "f974f5bd-f251-4430-86be-8bec8e091c0a"
      },
      "execution_count": null,
      "outputs": [
        {
          "output_type": "stream",
          "name": "stdout",
          "text": [
            "     *\n",
            "    **\n",
            "   ***\n",
            "  ****\n",
            " *****\n"
          ]
        }
      ]
    },
    {
      "cell_type": "code",
      "source": [
        "n=6\n",
        "for i in range(n):\n",
        "  for j in range(i,n):\n",
        "    print(\"*\",end=' ')\n",
        "  print()"
      ],
      "metadata": {
        "colab": {
          "base_uri": "https://localhost:8080/"
        },
        "id": "k11u_u4QBgB-",
        "outputId": "15306210-e298-4cca-bccd-102ab5066a1c"
      },
      "execution_count": null,
      "outputs": [
        {
          "output_type": "stream",
          "name": "stdout",
          "text": [
            "* * * * * * \n",
            "* * * * * \n",
            "* * * * \n",
            "* * * \n",
            "* * \n",
            "* \n"
          ]
        }
      ]
    },
    {
      "cell_type": "code",
      "source": [
        "n=5\n",
        "for i in range(n+1):\n",
        "  for j in range(0,i):\n",
        "    print(i,end=' ')\n",
        "  print()"
      ],
      "metadata": {
        "colab": {
          "base_uri": "https://localhost:8080/"
        },
        "id": "tqnmLec3CW_k",
        "outputId": "3c47c85d-c12d-46fd-e50a-3399933f846d"
      },
      "execution_count": null,
      "outputs": [
        {
          "output_type": "stream",
          "name": "stdout",
          "text": [
            "\n",
            "1 \n",
            "2 2 \n",
            "3 3 3 \n",
            "4 4 4 4 \n",
            "5 5 5 5 5 \n"
          ]
        }
      ]
    },
    {
      "cell_type": "code",
      "source": [
        "n=5\n",
        "for i in range(n+1):\n",
        "  for j in range(1,n-i+1):\n",
        "    print(j,end=' ')\n",
        "  print()"
      ],
      "metadata": {
        "id": "uYa3MKRtvUbs",
        "colab": {
          "base_uri": "https://localhost:8080/"
        },
        "outputId": "05979615-9435-4d51-b7db-6c6fd9e4d5fe"
      },
      "execution_count": null,
      "outputs": [
        {
          "output_type": "stream",
          "name": "stdout",
          "text": [
            "1 2 3 4 5 \n",
            "1 2 3 4 \n",
            "1 2 3 \n",
            "1 2 \n",
            "1 \n",
            "\n"
          ]
        }
      ]
    },
    {
      "cell_type": "code",
      "source": [
        "n=5\n",
        "for i in range(n+1):\n",
        "  for j in range(n-i+1):\n",
        "    print(\"*\",end=\"\")\n",
        "  print()"
      ],
      "metadata": {
        "colab": {
          "base_uri": "https://localhost:8080/"
        },
        "id": "dPjVYVZjcBZq",
        "outputId": "e3d3890d-0321-4a3c-dae9-723c3d3cc985"
      },
      "execution_count": null,
      "outputs": [
        {
          "output_type": "stream",
          "name": "stdout",
          "text": [
            "******\n",
            "*****\n",
            "****\n",
            "***\n",
            "**\n",
            "*\n"
          ]
        }
      ]
    },
    {
      "cell_type": "code",
      "source": [
        "n=5\n",
        "for i in range(n):\n",
        "  for j in range(n-i+1):\n",
        "    print(\" \",end='')\n",
        "  for j in range((2*i)+1):\n",
        "    print(\"*\",end=\"\")\n",
        "  for j in range(n-i+1):\n",
        "    print(\" \",end='')\n",
        "  print()"
      ],
      "metadata": {
        "colab": {
          "base_uri": "https://localhost:8080/"
        },
        "id": "PVHoFP8Vdy5Y",
        "outputId": "a841ea30-c7bf-4855-e32e-d1f671f1e053"
      },
      "execution_count": null,
      "outputs": [
        {
          "output_type": "stream",
          "name": "stdout",
          "text": [
            "      *      \n",
            "     ***     \n",
            "    *****    \n",
            "   *******   \n",
            "  *********  \n"
          ]
        }
      ]
    },
    {
      "cell_type": "code",
      "source": [
        "n=5\n",
        "for i in range(n):\n",
        "  for j in range(i):\n",
        "    print(\" \",end='')\n",
        "  for j in range(2*n-((2*i)+1)):\n",
        "    print(\"*\",end='')\n",
        "  for j in range(i):\n",
        "    print(\" \",end='')\n",
        "  print()"
      ],
      "metadata": {
        "colab": {
          "base_uri": "https://localhost:8080/"
        },
        "id": "r7N4J17vhMuU",
        "outputId": "3552563f-d569-4a99-9109-95f0471903a4"
      },
      "execution_count": null,
      "outputs": [
        {
          "output_type": "stream",
          "name": "stdout",
          "text": [
            "*********\n",
            " ******* \n",
            "  *****  \n",
            "   ***   \n",
            "    *    \n"
          ]
        }
      ]
    },
    {
      "cell_type": "code",
      "source": [
        "n = 5  # size of the pyramid\n",
        "\n",
        "# Upper pyramid\n",
        "for i in range(n):\n",
        "    print(\" \" * (n-i-1) + \"*\" * (2*i+1))\n",
        "\n",
        "# Lower inverted pyramid\n",
        "for i in range(n-2, -1, -1):\n",
        "    print(\" \" * (n-i-1) + \"*\" * (2*i+1))\n",
        "\n"
      ],
      "metadata": {
        "colab": {
          "base_uri": "https://localhost:8080/"
        },
        "id": "cJS9Sg_vh-XV",
        "outputId": "cf0ac5ed-2cb4-4634-fb89-11be62cb36d2"
      },
      "execution_count": null,
      "outputs": [
        {
          "output_type": "stream",
          "name": "stdout",
          "text": [
            "    *\n",
            "   ***\n",
            "  *****\n",
            " *******\n",
            "*********\n",
            " *******\n",
            "  *****\n",
            "   ***\n",
            "    *\n"
          ]
        }
      ]
    },
    {
      "cell_type": "code",
      "source": [
        "n=5\n",
        "\n",
        "# Upper pyramid\n",
        "for i in range(n):\n",
        "  for j in range(n-i-1):           # left spaces\n",
        "    print(\" \",end='')\n",
        "  for j in range((2*i)+1):         # stars\n",
        "    print(\"*\",end=\"\")\n",
        "  for j in range(n-i-1):           # right spaces\n",
        "    print(\" \",end='')\n",
        "  print()\n",
        "\n",
        "# Lower pyramid\n",
        "for i in range(n):\n",
        "  for j in range(i):               # left spaces\n",
        "    print(\" \",end='')\n",
        "  for j in range(2*n-((2*i)+1)):   # stars\n",
        "    print(\"*\",end='')\n",
        "  for j in range(i):               # right spaces\n",
        "    print(\" \",end='')\n",
        "  print()\n"
      ],
      "metadata": {
        "colab": {
          "base_uri": "https://localhost:8080/"
        },
        "id": "aOnISH6Win9h",
        "outputId": "9819467d-9c9f-4b78-d4c0-47c1904bff92"
      },
      "execution_count": null,
      "outputs": [
        {
          "output_type": "stream",
          "name": "stdout",
          "text": [
            "    *    \n",
            "   ***   \n",
            "  *****  \n",
            " ******* \n",
            "*********\n",
            "*********\n",
            " ******* \n",
            "  *****  \n",
            "   ***   \n",
            "    *    \n"
          ]
        }
      ]
    },
    {
      "cell_type": "code",
      "source": [
        "def print_x_pattern(s):\n",
        "    n = len(s)\n",
        "    for i in range(n):\n",
        "        line = [' '] * n  # Initialize line with spaces\n",
        "        line[i] = s[i]  # Left to right\n",
        "        line[n - i - 1] = s[n - i - 1]  # Right to left\n",
        "        print(''.join(line))\n",
        "\n",
        "print(\"Eg 1: Input: 12345\")\n",
        "print(\"Output:\")\n",
        "print_x_pattern(\"12345\")"
      ],
      "metadata": {
        "colab": {
          "base_uri": "https://localhost:8080/"
        },
        "id": "rZVJwo2D9hRK",
        "outputId": "5d29ecb6-afff-4d86-ce04-574f098e2f63"
      },
      "execution_count": null,
      "outputs": [
        {
          "output_type": "stream",
          "name": "stdout",
          "text": [
            "Eg 1: Input: 12345\n",
            "Output:\n",
            "1   5\n",
            " 2 4 \n",
            "  3  \n",
            " 2 4 \n",
            "1   5\n"
          ]
        }
      ]
    },
    {
      "cell_type": "code",
      "source": [
        "#Write a simple class in Python called Employee that has attributes name and salary, and a method to display them.\n",
        "\n",
        "# class Employee:\n",
        "#   def __init__(self,name,salary):\n",
        "#     self.nameofperson=name\n",
        "#     self.salaryofperson=salary\n",
        "# obj=Employee(\"bhava\",50000)\n",
        "# print(obj.nameofperson)\n",
        "# print(obj.salaryofperson)\n",
        "\n",
        "class Employee:\n",
        "  def __init__(self,name,salary):\n",
        "    self.namee=name\n",
        "    self.salaryy=salary\n",
        "\n",
        "  def displayy(self):\n",
        "    print(f\"name: {self.namee} and salary :{self.salaryy}\")\n",
        "\n",
        "obj=Employee(\"bhava\",50000)\n",
        "obj.displayy()\n",
        "\n"
      ],
      "metadata": {
        "id": "MsyzuVQFFuAr",
        "colab": {
          "base_uri": "https://localhost:8080/"
        },
        "outputId": "58000534-b090-48e4-b6c9-97739c965c56"
      },
      "execution_count": null,
      "outputs": [
        {
          "output_type": "stream",
          "name": "stdout",
          "text": [
            "name: bhava and salary :50000\n"
          ]
        }
      ]
    },
    {
      "cell_type": "code",
      "source": [
        "# #to find gcd\n",
        "n1=45\n",
        "n2=15\n",
        "def gcd(n1,n2):\n",
        "  while n2!=0:\n",
        "    n1,n2=n2,n1%n2\n",
        "  return n1\n",
        "print(gcd(n1,n2))\n",
        "\n",
        "# import math\n",
        "# n1=12\n",
        "# n2=14\n",
        "# print(math.gcd(n1,n2))\n"
      ],
      "metadata": {
        "id": "nB06hLzD4Nx8",
        "colab": {
          "base_uri": "https://localhost:8080/"
        },
        "outputId": "4ef17d3f-a249-4699-e6cd-7229c23ea992"
      },
      "execution_count": null,
      "outputs": [
        {
          "output_type": "stream",
          "name": "stdout",
          "text": [
            "15\n"
          ]
        }
      ]
    },
    {
      "cell_type": "code",
      "source": [
        "#remove duplicates in a list-sorted array\n",
        "lst=[4,7, 5, 4, 6, 7, 5, 8, 7]\n",
        "result=[]\n",
        "for i in lst:\n",
        "  if i not in result:\n",
        "    result.append(i)\n",
        "print(sorted(result))"
      ],
      "metadata": {
        "id": "HQPvtfyJStbJ",
        "colab": {
          "base_uri": "https://localhost:8080/"
        },
        "outputId": "7b16b3c7-365d-434e-d1f0-9bd1cc6191f2"
      },
      "execution_count": null,
      "outputs": [
        {
          "output_type": "stream",
          "name": "stdout",
          "text": [
            "[4, 5, 6, 7, 8]\n"
          ]
        }
      ]
    },
    {
      "cell_type": "code",
      "source": [
        "#nested loop\n",
        "n=[[1,2],[3,4],[5,6]]\n",
        "res=[]\n",
        "for i in n:\n",
        "  for j in i:\n",
        "    res.append(j)\n",
        "print(res)\n",
        "\n"
      ],
      "metadata": {
        "colab": {
          "base_uri": "https://localhost:8080/"
        },
        "id": "8WGdBKci2-MK",
        "outputId": "b9f4572d-3440-42f5-b341-5e78e69eba4d"
      },
      "execution_count": null,
      "outputs": [
        {
          "output_type": "stream",
          "name": "stdout",
          "text": [
            "[1, 2, 3, 4, 5, 6]\n"
          ]
        }
      ]
    },
    {
      "cell_type": "code",
      "source": [
        "#rotate the array bu k position\n",
        "arr=[1,5,3,2,6]\n",
        "n=len(arr)\n",
        "k=7\n",
        "k=k%n\n",
        "print(arr[k:]+arr[:k])"
      ],
      "metadata": {
        "colab": {
          "base_uri": "https://localhost:8080/"
        },
        "id": "zxeCq9FT7XYn",
        "outputId": "3f26518c-1d0c-4615-8add-bf6b5e6a0823"
      },
      "execution_count": null,
      "outputs": [
        {
          "output_type": "stream",
          "name": "stdout",
          "text": [
            "[3, 2, 6, 1, 5]\n"
          ]
        }
      ]
    },
    {
      "cell_type": "code",
      "source": [
        "#to print gcd\n",
        "n1=12\n",
        "n2=14\n",
        "n1=abs(n1)\n",
        "n2=abs(n2)\n",
        "def gcdd(n1,n2):\n",
        "  while n2!=0:\n",
        "    n1,n2=n2,n1%n2\n",
        "  return n1\n",
        "\n",
        "def lcmm(n1,n2):\n",
        "  if n1==0 and n2==0:\n",
        "    return 0\n",
        "  else:\n",
        "   return abs(n1*n2) // gcdd(n1,n2)\n",
        "\n",
        "print(gcdd(n1,n2))\n",
        "print(lcmm(n1,n2))\n",
        "\n"
      ],
      "metadata": {
        "id": "SAqQCFrp9oP9",
        "colab": {
          "base_uri": "https://localhost:8080/"
        },
        "outputId": "1e45ce89-262e-46a6-f3cd-cbddf2feae24"
      },
      "execution_count": null,
      "outputs": [
        {
          "output_type": "stream",
          "name": "stdout",
          "text": [
            "2\n",
            "84\n"
          ]
        }
      ]
    },
    {
      "cell_type": "code",
      "source": [
        "#to reverse a list\n",
        "lst=[1,2,3,4,5]\n",
        "print(lst[::-1])"
      ],
      "metadata": {
        "colab": {
          "base_uri": "https://localhost:8080/"
        },
        "id": "G7vkiwI-IL6Y",
        "outputId": "4934e667-9e0f-40d5-f77e-a8e3d27c4777"
      },
      "execution_count": null,
      "outputs": [
        {
          "output_type": "stream",
          "name": "stdout",
          "text": [
            "[5, 4, 3, 2, 1]\n"
          ]
        }
      ]
    },
    {
      "cell_type": "code",
      "source": [
        "#to check anagram\n",
        "a=\"eat\"\n",
        "b=\"ate\"\n",
        "if sorted(a)==sorted(b):\n",
        "  print(\"anagram\")\n",
        "else:\n",
        "  print(\"not anagram\")"
      ],
      "metadata": {
        "colab": {
          "base_uri": "https://localhost:8080/"
        },
        "id": "JCBH3UrCJ_jF",
        "outputId": "81ad9a57-208c-4c7c-ff3d-1dc5e59fb59b"
      },
      "execution_count": null,
      "outputs": [
        {
          "output_type": "stream",
          "name": "stdout",
          "text": [
            "anagram\n"
          ]
        }
      ]
    },
    {
      "cell_type": "markdown",
      "source": [
        "**2pointers/sliding window**"
      ],
      "metadata": {
        "id": "JIXlBza1QC_5"
      }
    },
    {
      "cell_type": "code",
      "source": [
        "#print subarrays with sum<5 condition\n",
        "# arr=[1,2,3,4]\n",
        "# k=5\n",
        "#bruteforce\n",
        "def subarray(arr):\n",
        "  n=len(arr)\n",
        "  res=[]\n",
        "  n=len(arr)\n",
        "  for i in range(n):\n",
        "    for j in range(i,n):\n",
        "      reslt=arr[i:j+1]\n",
        "      res.append(reslt)\n",
        "  # print(res)\n",
        "  return res\n",
        "def findsum(res):\n",
        "  maxx=0\n",
        "  summm=[]\n",
        "  for k in res:\n",
        "    summ=sum(k)\n",
        "    if summ>maxx:\n",
        "      maxx=summ\n",
        "      summm=k\n",
        "\n",
        "    # summm.append(summ)\n",
        "  return maxx,summm\n",
        "\n",
        "arr=[1,2,3,4]\n",
        "res=subarray(arr)\n",
        "print(res)\n",
        "print(findsum(res))"
      ],
      "metadata": {
        "colab": {
          "base_uri": "https://localhost:8080/"
        },
        "id": "x4rKkYNeLgpi",
        "outputId": "737c49e3-75bf-482e-f864-ff0b36b4256e"
      },
      "execution_count": null,
      "outputs": [
        {
          "output_type": "stream",
          "name": "stdout",
          "text": [
            "[[1], [1, 2], [1, 2, 3], [1, 2, 3, 4], [2], [2, 3], [2, 3, 4], [3], [3, 4], [4]]\n",
            "(10, [1, 2, 3, 4])\n"
          ]
        }
      ]
    },
    {
      "cell_type": "code",
      "source": [
        "# arr=[1,2,3,4]\n",
        "# k=5\n",
        "#bruteforce\n",
        "def subarray(arr):\n",
        "  n=len(arr)\n",
        "  res=[]\n",
        "  n=len(arr)\n",
        "  for i in range(n):\n",
        "    for j in range(i,n):\n",
        "      reslt=arr[i:j+1]\n",
        "      print(reslt)\n",
        "      res.append(reslt)\n",
        "print(subarray([1,2,3,4]))"
      ],
      "metadata": {
        "colab": {
          "base_uri": "https://localhost:8080/"
        },
        "id": "YtGbwmm2CaX-",
        "outputId": "31deac44-0876-4b7c-d68f-5e8ddfa28eb5"
      },
      "execution_count": null,
      "outputs": [
        {
          "output_type": "stream",
          "name": "stdout",
          "text": [
            "[1]\n",
            "[1, 2]\n",
            "[1, 2, 3]\n",
            "[1, 2, 3, 4]\n",
            "[2]\n",
            "[2, 3]\n",
            "[2, 3, 4]\n",
            "[3]\n",
            "[3, 4]\n",
            "[4]\n",
            "None\n"
          ]
        }
      ]
    },
    {
      "cell_type": "code",
      "source": [
        "#create a function print_area() that calls the area() method of any object.Create two classes Circle and Rectangle with different area() implementations.\n",
        "\n",
        "class square:\n",
        "  def __init__(self,side):\n",
        "    self.a=side\n",
        "  def area(self):\n",
        "    print(self.a*self.a)\n",
        "\n",
        "class rectangle:\n",
        "  def __init__(self,length,width):\n",
        "    self.l=length\n",
        "    self.w=width\n",
        "  def area(self):\n",
        "    print(self.l*self.w)\n",
        "\n",
        "def print_area(shape):\n",
        "  shape.area()\n",
        "\n",
        "obj1=square(2)\n",
        "obj2=rectangle(2,3)\n",
        "print_area(obj1)\n",
        "print_area(obj2)"
      ],
      "metadata": {
        "id": "aLCovQfTM58L",
        "colab": {
          "base_uri": "https://localhost:8080/"
        },
        "outputId": "fef97c45-5652-4a6d-ac80-6360b94a6dab"
      },
      "execution_count": null,
      "outputs": [
        {
          "output_type": "stream",
          "name": "stdout",
          "text": [
            "4\n",
            "6\n"
          ]
        }
      ]
    },
    {
      "cell_type": "code",
      "source": [
        "#Write a function animal_sound() that calls make_sound() of any object. Create Dog and Cat classes with different make_sound() methods.\n",
        "\n",
        "class Dog:\n",
        "  def make_sound(self):\n",
        "    print(\"loll\")\n",
        "class Cat:\n",
        "  def make_sound(self):\n",
        "    print(\"meoww\")\n",
        "\n",
        "def animal_sound(s):\n",
        "  s.make_sound()\n",
        "\n",
        "obj1=Dog()\n",
        "obj2=Cat()\n",
        "animal_sound(obj1)\n",
        "animal_sound(obj2)\n"
      ],
      "metadata": {
        "colab": {
          "base_uri": "https://localhost:8080/"
        },
        "id": "9sD06pbmUagI",
        "outputId": "16c17bb7-ae61-4e12-df4c-721a21fd1885"
      },
      "execution_count": null,
      "outputs": [
        {
          "output_type": "stream",
          "name": "stdout",
          "text": [
            "loll\n",
            "meoww\n"
          ]
        }
      ]
    },
    {
      "cell_type": "code",
      "source": [
        "#Write a function start_engine() that calls the engine() method of any object passed to it.\n",
        "#Create two classes Car and Motorbike that implement engine() differently and test with both.\n",
        "\n",
        "def start_engine(self):\n",
        "  self.engine()\n",
        "\n",
        "class Car:\n",
        "  def engine(self):\n",
        "    print(\"car started\")\n",
        "class Motorbike:\n",
        "  def engine(self):\n",
        "    print(\"motorbike started\")\n",
        "\n",
        "obj1=Car()\n",
        "obj2=Motorbike()\n",
        "start_engine(obj1)"
      ],
      "metadata": {
        "colab": {
          "base_uri": "https://localhost:8080/"
        },
        "id": "nawZGCcmV8wn",
        "outputId": "7b65de46-b57e-42f7-bb83-76317986ca72"
      },
      "execution_count": null,
      "outputs": [
        {
          "output_type": "stream",
          "name": "stdout",
          "text": [
            "car started\n"
          ]
        }
      ]
    },
    {
      "cell_type": "code",
      "source": [
        "#Create a function process_payment() that calls pay() method of any object.\n",
        "#Create two classes CreditCardPayment and PayPalPayment that implement pay() differently.\n",
        "def process_payment(self,amount):\n",
        "    self.pay(amount)\n",
        "class creditcardpayment:\n",
        "    def pay(self,amount):\n",
        "        print(f\"pay with creditcard {amount}\")\n",
        "class paypalpayment:\n",
        "    def pay(self,amount):\n",
        "        print(f\"pay with paypal {amount}\")\n",
        "obj1=creditcardpayment()\n",
        "obj2=paypalpayment()\n",
        "process_payment(obj1,1000)\n",
        "process_payment(obj2,2000)\n",
        "\n"
      ],
      "metadata": {
        "colab": {
          "base_uri": "https://localhost:8080/"
        },
        "id": "-_vbrG5MLiBA",
        "outputId": "1a0c19e5-bd95-412d-bdb5-91192ac8b11d"
      },
      "execution_count": null,
      "outputs": [
        {
          "output_type": "stream",
          "name": "stdout",
          "text": [
            "pay with creditcard 1000\n",
            "pay with paypal 2000\n"
          ]
        }
      ]
    },
    {
      "cell_type": "code",
      "source": [
        "# Create a function play_media() that calls play() method of any object.\n",
        "# Create two classes MP3Player and VideoPlayer with different play() outputs.\n",
        "# Call play_media() with each object.\n",
        "def play_media(self):\n",
        "    self.play()\n",
        "class mp3player:\n",
        "    def play(self):\n",
        "        print(\"play song\")\n",
        "class videoplayer:\n",
        "    def play(self):\n",
        "        print(\"play video\")\n",
        "obj1=mp3player()\n",
        "obj2=videoplayer()\n",
        "play_media(obj1)\n",
        "play_media(obj2)"
      ],
      "metadata": {
        "colab": {
          "base_uri": "https://localhost:8080/"
        },
        "id": "CiiE-JqOe7LN",
        "outputId": "d6e74fbd-1011-45ab-c196-a055a79d7e31"
      },
      "execution_count": null,
      "outputs": [
        {
          "output_type": "stream",
          "name": "stdout",
          "text": [
            "play song\n",
            "play video\n"
          ]
        }
      ]
    },
    {
      "cell_type": "code",
      "source": [
        "def play_media(self,media):\n",
        "  self.play(media)\n",
        "class mp3player:\n",
        "  def play(self,media):\n",
        "    print (f\"play {media}\")\n",
        "class videoplayer:\n",
        "  def play(self,media):\n",
        "    print (f\"play {media}\")\n",
        "obj1=mp3player()\n",
        "obj2=videoplayer()\n",
        "play_media(obj1,\"song\")\n",
        "play_media(obj2,\"video\")\n"
      ],
      "metadata": {
        "colab": {
          "base_uri": "https://localhost:8080/"
        },
        "id": "ACrzZCLvMkUh",
        "outputId": "a83f5e4a-3415-4083-c741-99e632c16d0c"
      },
      "execution_count": null,
      "outputs": [
        {
          "output_type": "stream",
          "name": "stdout",
          "text": [
            "play song\n",
            "play video\n"
          ]
        }
      ]
    },
    {
      "cell_type": "code",
      "source": [
        "# Base class\n",
        "class Animal:\n",
        "    def sound(self):\n",
        "        print(\"Animals make sounds\")\n",
        "\n",
        "# Child class Dog\n",
        "class Dog(Animal):\n",
        "    def sound(self):\n",
        "        print(\"Dog says Woof!\")\n",
        "\n",
        "# Child class Cat\n",
        "class Cat(Animal):\n",
        "    def sound(self):\n",
        "        print(\"Cat says Meow!\")\n",
        "\n",
        "# Testing\n",
        "d = Dog()\n",
        "c = Cat()\n",
        "Animal.sound(d)\n",
        "d.sound()   # Dog says Woof!\n",
        "c.sound()   # Cat says Meow!\n"
      ],
      "metadata": {
        "colab": {
          "base_uri": "https://localhost:8080/"
        },
        "id": "vFOITxinSY8N",
        "outputId": "02d2454c-b711-439b-de31-e21648ba22a5"
      },
      "execution_count": null,
      "outputs": [
        {
          "output_type": "stream",
          "name": "stdout",
          "text": [
            "Animals make sounds\n",
            "Dog says Woof!\n",
            "Cat says Meow!\n"
          ]
        }
      ]
    },
    {
      "cell_type": "code",
      "source": [
        "# Base class\n",
        "class Vehicle:\n",
        "    def fuel_type(self):\n",
        "        print(\"Different vehicles use different fuel types.\")\n",
        "\n",
        "# Child class Car\n",
        "class Car(Vehicle):\n",
        "    def fuel_type(self):\n",
        "        print(\"Car uses Petrol or Diesel.\")\n",
        "\n",
        "# Child class Bike\n",
        "class Bike(Vehicle):\n",
        "    def fuel_type(self):\n",
        "        print(\"Bike uses Petrol.\")\n",
        "\n",
        "# Testing\n",
        "# v = Vehicle()\n",
        "c = Car()\n",
        "b = Bike()\n",
        "\n",
        "# v.fuel_type()   # From base class\n",
        "c.fuel_type()   # From Car\n",
        "b.fuel_type()   # From Bike\n"
      ],
      "metadata": {
        "id": "itsDfEg1gnlZ",
        "colab": {
          "base_uri": "https://localhost:8080/"
        },
        "outputId": "bcc91059-e000-49b2-804f-484dd54ff0a0"
      },
      "execution_count": null,
      "outputs": [
        {
          "output_type": "stream",
          "name": "stdout",
          "text": [
            "Car uses Petrol or Diesel.\n",
            "Bike uses Petrol.\n"
          ]
        }
      ]
    },
    {
      "cell_type": "code",
      "source": [
        "# Base class\n",
        "class Employee:\n",
        "    def __init__(self, name, salary):\n",
        "        self.name = name\n",
        "        self.salary = salary\n",
        "\n",
        "    def details(self):\n",
        "        print(f\"Employee: {self.name}, Salary: {self.salary}\")\n",
        "\n",
        "# Manager class\n",
        "class Manager(Employee):\n",
        "    def work(self):\n",
        "        print(f\"{self.name} manages the team.\")\n",
        "\n",
        "# Developer class\n",
        "class Developer(Employee):\n",
        "    def work(self):\n",
        "        print(f\"{self.name} writes code.\")\n",
        "\n",
        "# Testing\n",
        "m = Manager(\"Alice\", 80000)\n",
        "d = Developer(\"Bob\", 60000)\n",
        "\n",
        "# m.details()\n",
        "m.work()\n",
        "\n",
        "d.details()\n",
        "d.work()\n"
      ],
      "metadata": {
        "colab": {
          "base_uri": "https://localhost:8080/"
        },
        "id": "952RLsY5T2E4",
        "outputId": "751183a4-95f4-4b46-d601-a31b945c2e4e"
      },
      "execution_count": null,
      "outputs": [
        {
          "output_type": "stream",
          "name": "stdout",
          "text": [
            "Alice manages the team.\n",
            "Employee: Bob, Salary: 60000\n",
            "Bob writes code.\n"
          ]
        }
      ]
    },
    {
      "cell_type": "code",
      "source": [
        "class BankAccount:\n",
        "  def __init__(self,balance,account_no):\n",
        "    self.__balance=balance\n",
        "    self.__account_no=account_no\n",
        "\n",
        "  def deposit(self,amount):\n",
        "    print(f\"deposit amount:{amount}\")\n",
        "  def withdraw(self,amount):\n",
        "    print(f\"withdraw amount:{amount}\")\n",
        "  def get_balance(self):\n",
        "    return self.__balance\n",
        "\n",
        "obj1=BankAccount(5000,123)\n",
        "obj1.deposit(2000)\n",
        "obj1.withdraw(1000)\n",
        "obj1.get_balance()"
      ],
      "metadata": {
        "id": "ofX_LMmlVZf6",
        "colab": {
          "base_uri": "https://localhost:8080/"
        },
        "outputId": "196b8d44-a80d-49e8-f429-11cca4b3b581"
      },
      "execution_count": null,
      "outputs": [
        {
          "output_type": "stream",
          "name": "stdout",
          "text": [
            "deposit amount:2000\n",
            "withdraw amount:1000\n"
          ]
        },
        {
          "output_type": "execute_result",
          "data": {
            "text/plain": [
              "5000"
            ]
          },
          "metadata": {},
          "execution_count": 1
        }
      ]
    },
    {
      "cell_type": "code",
      "source": [
        "class Student:\n",
        "    def __init__(self, name, roll_no, marks):\n",
        "        self.__name = name      # private\n",
        "        self.__roll_no = roll_no  # private\n",
        "        self.__marks = marks    # private\n",
        "\n",
        "    # Getter and Setter\n",
        "    def set_marks(self, marks):\n",
        "        if 0 <= marks <= 100:\n",
        "            self.__marks = marks\n",
        "        else:\n",
        "            print(\"Invalid marks!\")\n",
        "\n",
        "    def get_marks(self):\n",
        "        return self.__marks\n",
        "\n",
        "    def is_passed(self):\n",
        "        return self.__marks >= 40\n",
        "\n",
        "\n",
        "# Example\n",
        "s = Student(\"John\", 101, 35)\n",
        "print(\"Passed:\", s.is_passed())\n",
        "s.set_marks(75)\n",
        "print(\"Marks:\", s.get_marks())\n",
        "print(\"Passed:\", s.is_passed())\n"
      ],
      "metadata": {
        "colab": {
          "base_uri": "https://localhost:8080/"
        },
        "id": "G34B0sVjIa2O",
        "outputId": "68355d6f-ee9c-4869-f9ef-dd347cbd4a1a"
      },
      "execution_count": null,
      "outputs": [
        {
          "output_type": "stream",
          "name": "stdout",
          "text": [
            "Passed: False\n",
            "Marks: 75\n",
            "Passed: True\n"
          ]
        }
      ]
    },
    {
      "cell_type": "markdown",
      "source": [
        "**practise interview POV questions** 14/9/25"
      ],
      "metadata": {
        "id": "qnaPJofjiouP"
      }
    },
    {
      "cell_type": "code",
      "source": [
        "for i in range(3):\n",
        "  for j in range(i):\n",
        "    print(i)\n",
        "print()"
      ],
      "metadata": {
        "id": "lPg-S8JpJng_",
        "colab": {
          "base_uri": "https://localhost:8080/"
        },
        "outputId": "3ba4cf98-86cd-4ccd-95e7-c4c475d73ce3"
      },
      "execution_count": null,
      "outputs": [
        {
          "output_type": "stream",
          "name": "stdout",
          "text": [
            "1\n",
            "2\n",
            "2\n",
            "\n"
          ]
        }
      ]
    },
    {
      "cell_type": "code",
      "source": [
        "n=0\n",
        "while n<10:\n",
        "  print(n)\n",
        "  n+=1"
      ],
      "metadata": {
        "colab": {
          "base_uri": "https://localhost:8080/"
        },
        "id": "z5la1KUFi3Lk",
        "outputId": "92eb9037-752d-4011-a935-83daac9be6c8"
      },
      "execution_count": null,
      "outputs": [
        {
          "output_type": "stream",
          "name": "stdout",
          "text": [
            "0\n",
            "1\n",
            "2\n",
            "3\n",
            "4\n",
            "5\n",
            "6\n",
            "7\n",
            "8\n",
            "9\n"
          ]
        }
      ]
    },
    {
      "cell_type": "code",
      "source": [
        "j=2\n",
        "n=10\n",
        "for i in range(1,n+1):\n",
        "  print(i,'*',j,'=',i*j)"
      ],
      "metadata": {
        "colab": {
          "base_uri": "https://localhost:8080/"
        },
        "id": "Hmm2LoJsj6ds",
        "outputId": "1e0d248e-5593-407e-9ee9-067c03433ff6"
      },
      "execution_count": null,
      "outputs": [
        {
          "output_type": "stream",
          "name": "stdout",
          "text": [
            "1 * 2 = 2\n",
            "2 * 2 = 4\n",
            "3 * 2 = 6\n",
            "4 * 2 = 8\n",
            "5 * 2 = 10\n",
            "6 * 2 = 12\n",
            "7 * 2 = 14\n",
            "8 * 2 = 16\n",
            "9 * 2 = 18\n",
            "10 * 2 = 20\n"
          ]
        }
      ]
    },
    {
      "cell_type": "code",
      "source": [
        "n = 5\n",
        "for i in range(1, 11):\n",
        "    print(n, \"x\", i, \"=\", n*i)\n"
      ],
      "metadata": {
        "colab": {
          "base_uri": "https://localhost:8080/"
        },
        "id": "HDN72YsGkevv",
        "outputId": "fd8f7b11-d897-4c14-9d62-ebf4f0659fa7"
      },
      "execution_count": null,
      "outputs": [
        {
          "output_type": "stream",
          "name": "stdout",
          "text": [
            "5 x 1 = 5\n",
            "5 x 2 = 10\n",
            "5 x 3 = 15\n",
            "5 x 4 = 20\n",
            "5 x 5 = 25\n",
            "5 x 6 = 30\n",
            "5 x 7 = 35\n",
            "5 x 8 = 40\n",
            "5 x 9 = 45\n",
            "5 x 10 = 50\n"
          ]
        }
      ]
    },
    {
      "cell_type": "code",
      "source": [
        "n=5\n",
        "for i in range(n+1):\n",
        "  for j in range(i):\n",
        "    print('*',end=\" \")\n",
        "  print()"
      ],
      "metadata": {
        "colab": {
          "base_uri": "https://localhost:8080/"
        },
        "id": "Q5OtcXTdk5R2",
        "outputId": "49013c3a-d84a-4ea5-bc5b-2fc8087c57a5"
      },
      "execution_count": null,
      "outputs": [
        {
          "output_type": "stream",
          "name": "stdout",
          "text": [
            "\n",
            "* \n",
            "* * \n",
            "* * * \n",
            "* * * * \n",
            "* * * * * \n"
          ]
        }
      ]
    },
    {
      "cell_type": "code",
      "source": [
        "a=[1,2,3,3,4,5,5,6]\n",
        "res=[]\n",
        "for i in a:\n",
        "  if i not in res:\n",
        "    res.append(i)\n",
        "print(res)"
      ],
      "metadata": {
        "colab": {
          "base_uri": "https://localhost:8080/"
        },
        "id": "LaqFr144ntzU",
        "outputId": "f1af2423-5ee0-4432-894c-0a816045e06f"
      },
      "execution_count": null,
      "outputs": [
        {
          "output_type": "stream",
          "name": "stdout",
          "text": [
            "[1, 2, 3, 4, 5, 6]\n"
          ]
        }
      ]
    },
    {
      "cell_type": "code",
      "source": [
        "a=\"hello\"\n",
        "res=[]\n",
        "for i in a:\n",
        "  if i not in res:\n",
        "    res.append(i)\n",
        "print(res)"
      ],
      "metadata": {
        "colab": {
          "base_uri": "https://localhost:8080/"
        },
        "id": "S3vmSIx2o4Ry",
        "outputId": "80b4ce24-a4a8-4234-8367-fd1d487f7bad"
      },
      "execution_count": null,
      "outputs": [
        {
          "output_type": "stream",
          "name": "stdout",
          "text": [
            "['h', 'e', 'l', 'o']\n"
          ]
        }
      ]
    },
    {
      "cell_type": "code",
      "source": [
        "a=\"hello\"\n",
        "res=\" \"\n",
        "for i in a:\n",
        "  res=i+res\n",
        "  print(res)"
      ],
      "metadata": {
        "colab": {
          "base_uri": "https://localhost:8080/"
        },
        "id": "307S-YIWpNh4",
        "outputId": "bd1526b6-fb1c-4a9c-c241-f568401f9d82"
      },
      "execution_count": null,
      "outputs": [
        {
          "output_type": "stream",
          "name": "stdout",
          "text": [
            "h \n",
            "eh \n",
            "leh \n",
            "lleh \n",
            "olleh \n"
          ]
        }
      ]
    },
    {
      "cell_type": "code",
      "source": [
        "s=(\"chennai\",101,\"tnagar\",102)\n",
        "letters=[]\n",
        "digits=[]\n",
        "for i in s:\n",
        "  if isinstance(i,int):\n",
        "    digits.append(i)\n",
        "  else:\n",
        "    letters.append(i)\n",
        "print(letters)\n",
        "print(digits)"
      ],
      "metadata": {
        "id": "fTat3_nNpdnd",
        "colab": {
          "base_uri": "https://localhost:8080/"
        },
        "outputId": "c6bf54a7-a2e0-40f5-d407-6e7743273ca4"
      },
      "execution_count": null,
      "outputs": [
        {
          "output_type": "stream",
          "name": "stdout",
          "text": [
            "['chennai', 'tnagar']\n",
            "[101, 102]\n"
          ]
        }
      ]
    },
    {
      "cell_type": "code",
      "source": [
        "class Dog:\n",
        "  def __init__(self,name,sound,color):\n",
        "    self.name=name\n",
        "    self._sound=sound\n",
        "    self.__color=color\n",
        "\n",
        "  # def display(self):\n",
        "  #   print(f\"{self.name},{self._sound}\")\n",
        "  def get_color(self):\n",
        "    return self.__color\n",
        "\n",
        "  def set_color(self,color):\n",
        "    self.__color=color\n",
        "    print(self.__color)\n",
        "\n",
        "obj=Dog(\"buddy\",\"lol\",\"black\")\n",
        "obj.name\n",
        "obj._sound\n",
        "\n",
        "# obj.display()\n",
        "obj.set_color(\"white\")\n"
      ],
      "metadata": {
        "id": "QoXQUTV5BgCH",
        "colab": {
          "base_uri": "https://localhost:8080/"
        },
        "outputId": "03d47d31-c3eb-4a26-f777-a5e34c6191d0"
      },
      "execution_count": null,
      "outputs": [
        {
          "output_type": "stream",
          "name": "stdout",
          "text": [
            "white\n"
          ]
        }
      ]
    },
    {
      "cell_type": "markdown",
      "source": [
        "23.09.2025"
      ],
      "metadata": {
        "id": "QbCKN0XfGD7p"
      }
    },
    {
      "cell_type": "code",
      "source": [
        "# To print missing value\n",
        "arr=[1,2,3,5]\n",
        "n=len(arr)+1\n",
        "cal=(n*(n+1)//2)\n",
        "# print(cal)\n",
        "sum=0\n",
        "for i in arr:\n",
        "  sum+=i\n",
        "# print(sum)\n",
        "\n",
        "missingval=cal-sum\n",
        "print(missingval)\n"
      ],
      "metadata": {
        "id": "7MKCVFmeIhRo",
        "colab": {
          "base_uri": "https://localhost:8080/"
        },
        "outputId": "f960c267-e96b-4237-c9df-0964d9c29a9a"
      },
      "execution_count": null,
      "outputs": [
        {
          "output_type": "stream",
          "name": "stdout",
          "text": [
            "4\n"
          ]
        }
      ]
    },
    {
      "cell_type": "code",
      "source": [
        "# to print the array duplicates\n",
        "arr=[1,2,3,2,3]\n",
        "dictt={}\n",
        "for i in arr:\n",
        "  if i not in dictt:\n",
        "    dictt[i]=1\n",
        "  else:\n",
        "    dictt[i]+=1\n",
        "print(dictt)\n",
        "res=[]\n",
        "for j in dictt:\n",
        "  if dictt[j]>1:\n",
        "    res.append(j)\n",
        "    j+=1\n",
        "print(res)"
      ],
      "metadata": {
        "colab": {
          "base_uri": "https://localhost:8080/"
        },
        "id": "-I3jUPACHEnE",
        "outputId": "5c9caa77-5820-4ce3-872f-df0d25707eb4"
      },
      "execution_count": null,
      "outputs": [
        {
          "output_type": "stream",
          "name": "stdout",
          "text": [
            "{1: 1, 2: 2, 3: 2}\n",
            "[2, 3]\n"
          ]
        }
      ]
    },
    {
      "cell_type": "code",
      "source": [
        "# string prob\n",
        "s = \"i.like.this.program.very.much\"\n",
        "word=s.split(\".\")\n",
        "#\n",
        "word.reverse()\n",
        "print(word)\n",
        "result=\".\".join(word)\n",
        "print(result)\n"
      ],
      "metadata": {
        "colab": {
          "base_uri": "https://localhost:8080/"
        },
        "id": "F1Mu7ucUKUJL",
        "outputId": "a33bb438-d45d-4fdc-f197-26f67f431608"
      },
      "execution_count": null,
      "outputs": [
        {
          "output_type": "stream",
          "name": "stdout",
          "text": [
            "['much', 'very', 'program', 'this', 'like', 'i']\n",
            "much.very.program.this.like.i\n"
          ]
        }
      ]
    },
    {
      "cell_type": "code",
      "source": [
        "a=6\n",
        "res=[]\n",
        "for i in range(1,a+1):\n",
        "  if a%i==0:\n",
        "    res.append(i)\n",
        "print(res)\n"
      ],
      "metadata": {
        "id": "jSHfapTCMUb1",
        "colab": {
          "base_uri": "https://localhost:8080/"
        },
        "outputId": "8de8a5b3-6908-4329-99d6-1f91d8c61e1f"
      },
      "execution_count": null,
      "outputs": [
        {
          "output_type": "stream",
          "name": "stdout",
          "text": [
            "[1, 2, 3, 6]\n"
          ]
        }
      ]
    },
    {
      "cell_type": "code",
      "source": [
        "import numpy as np\n",
        "cube = np.array([[[1, 2, 3],\n",
        "                  [4, 5, 6],\n",
        "                  [7, 8, 9]],\n",
        "\n",
        "                 [[10, 11, 12],\n",
        "                  [13, 14, 15],\n",
        "                  [16, 17, 18]]])\n",
        "print(cube)\n",
        "print(cube.ndim)\n",
        "print(cube.shape)\n",
        "print(cube.size)\n",
        "print(cube[1,2,0])\n",
        "print(cube.reshape(-1,2))\n",
        "print(cube.reshape(6,3))\n",
        "print(cube.reshape(3,3,2))\n",
        "print(np.sum(cube))\n",
        "print(np.mean(cube,axis=0))"
      ],
      "metadata": {
        "colab": {
          "base_uri": "https://localhost:8080/"
        },
        "id": "HAnbMgHmJlVO",
        "outputId": "e9c2786b-b176-4f13-ffd9-73828fe88e3f"
      },
      "execution_count": null,
      "outputs": [
        {
          "output_type": "stream",
          "name": "stdout",
          "text": [
            "[[[ 1  2  3]\n",
            "  [ 4  5  6]\n",
            "  [ 7  8  9]]\n",
            "\n",
            " [[10 11 12]\n",
            "  [13 14 15]\n",
            "  [16 17 18]]]\n",
            "3\n",
            "(2, 3, 3)\n",
            "18\n",
            "16\n",
            "[[ 1  2]\n",
            " [ 3  4]\n",
            " [ 5  6]\n",
            " [ 7  8]\n",
            " [ 9 10]\n",
            " [11 12]\n",
            " [13 14]\n",
            " [15 16]\n",
            " [17 18]]\n",
            "[[ 1  2  3]\n",
            " [ 4  5  6]\n",
            " [ 7  8  9]\n",
            " [10 11 12]\n",
            " [13 14 15]\n",
            " [16 17 18]]\n",
            "[[[ 1  2]\n",
            "  [ 3  4]\n",
            "  [ 5  6]]\n",
            "\n",
            " [[ 7  8]\n",
            "  [ 9 10]\n",
            "  [11 12]]\n",
            "\n",
            " [[13 14]\n",
            "  [15 16]\n",
            "  [17 18]]]\n",
            "171\n",
            "[[ 5.5  6.5  7.5]\n",
            " [ 8.5  9.5 10.5]\n",
            " [11.5 12.5 13.5]]\n"
          ]
        }
      ]
    },
    {
      "cell_type": "code",
      "source": [
        "x=np.array([1,2,3])\n",
        "y=np.array([4,5,6])\n",
        "print(x+y)\n",
        "print(x*y)\n",
        "print(np.pow(x,y))\n",
        "print(np.sum(x))\n",
        "print(np.sum(y))\n",
        "print(np.min(x))\n",
        "print(np.mean(y))"
      ],
      "metadata": {
        "colab": {
          "base_uri": "https://localhost:8080/"
        },
        "id": "gBldBlpCJo-u",
        "outputId": "5d5def8b-e748-4f2f-ae69-51329b21a78f"
      },
      "execution_count": null,
      "outputs": [
        {
          "output_type": "stream",
          "name": "stdout",
          "text": [
            "[5 7 9]\n",
            "[ 4 10 18]\n",
            "[  1  32 729]\n",
            "6\n",
            "15\n",
            "1\n",
            "5.0\n"
          ]
        }
      ]
    },
    {
      "cell_type": "code",
      "source": [
        "s=\"mollyom\"\n",
        "print(len(s))\n",
        "l=0\n",
        "r=len(s)-1\n",
        "while l<r:\n",
        "  if s[l]!=s[r]:\n",
        "    print(\"not palindrome\")\n",
        "    break\n",
        "  l+=1\n",
        "  r-=1\n",
        "else:\n",
        "    print(\"palindrome\")"
      ],
      "metadata": {
        "id": "wFTQe3_cMTM4",
        "colab": {
          "base_uri": "https://localhost:8080/"
        },
        "outputId": "fcd0368b-b867-4255-cb10-56023f95c10c"
      },
      "execution_count": null,
      "outputs": [
        {
          "output_type": "stream",
          "name": "stdout",
          "text": [
            "7\n",
            "not palindrome\n"
          ]
        }
      ]
    },
    {
      "cell_type": "code",
      "source": [
        "a=\"nhjg\"\n",
        "rev=\"\".join(reversed(a))\n",
        "print(rev)"
      ],
      "metadata": {
        "colab": {
          "base_uri": "https://localhost:8080/"
        },
        "id": "f_5KA4A7EJME",
        "outputId": "dc1e8582-ec6c-44bd-e0b4-7970be787139"
      },
      "execution_count": null,
      "outputs": [
        {
          "output_type": "stream",
          "name": "stdout",
          "text": [
            "gjhn\n"
          ]
        }
      ]
    },
    {
      "cell_type": "code",
      "source": [
        "a=\"listeen\"\n",
        "b=\"silent\"\n",
        "c=sorted(a)\n",
        "d=sorted(b)\n",
        "if c==d:\n",
        "  print(\"anagram\")\n",
        "else:\n",
        "  print(\"not a anagram\")"
      ],
      "metadata": {
        "colab": {
          "base_uri": "https://localhost:8080/"
        },
        "id": "ifaxqbBUFOB2",
        "outputId": "5b5739de-61f0-4ed0-a5b4-110de55a4688"
      },
      "execution_count": null,
      "outputs": [
        {
          "output_type": "stream",
          "name": "stdout",
          "text": [
            "not a anagram\n"
          ]
        }
      ]
    },
    {
      "cell_type": "code",
      "source": [],
      "metadata": {
        "id": "i7wYVYyWFUvA"
      },
      "execution_count": null,
      "outputs": []
    },
    {
      "cell_type": "markdown",
      "source": [
        "9/10/2025"
      ],
      "metadata": {
        "id": "TXSgL7BH8uBm"
      }
    },
    {
      "cell_type": "code",
      "source": [
        "s=\"(){}({])\"\n",
        "st=[]\n",
        "d={\"(\":\")\",\"[\":\"]\",\"{\":\"}\"}\n",
        "for i in s:\n",
        "  if i in d.keys():\n",
        "    st.append(i)\n",
        "  else:\n",
        "    if st==[]:\n",
        "      print(\"invalid\")\n",
        "    else:\n",
        "      if d[st[-1]]==i:\n",
        "        st.pop()\n",
        "      else:\n",
        "        break\n",
        "if st==[]:\n",
        "  print(\"valid parenthesis\")\n",
        "else:\n",
        "  print(\"invalid parenthesis\")\n",
        "\n"
      ],
      "metadata": {
        "colab": {
          "base_uri": "https://localhost:8080/"
        },
        "id": "xh3tpwQT8ukL",
        "outputId": "2ffbe281-4ccd-4529-cb7f-674f62e3a0dd"
      },
      "execution_count": null,
      "outputs": [
        {
          "output_type": "stream",
          "name": "stdout",
          "text": [
            "invalid parenthesis\n"
          ]
        }
      ]
    },
    {
      "cell_type": "code",
      "source": [
        "n=[0,0,1,1,2,3,3,4,4,5,5]\n",
        "l=1\n",
        "for r in range(1,len(n)):\n",
        "  if n[r]!=n[r-1]:\n",
        "    n[l]=n[r]\n",
        "    l+=1\n",
        "print(n)\n",
        "print(n[:l])\n"
      ],
      "metadata": {
        "id": "syOHHh7YC4T4",
        "colab": {
          "base_uri": "https://localhost:8080/"
        },
        "outputId": "05291896-2a78-4bfc-990b-6a5b135866ba"
      },
      "execution_count": null,
      "outputs": [
        {
          "output_type": "stream",
          "name": "stdout",
          "text": [
            "[0, 1, 2, 3, 4, 5, 3, 4, 4, 5, 5]\n",
            "[0, 1, 2, 3, 4, 5]\n"
          ]
        }
      ]
    },
    {
      "cell_type": "code",
      "source": [
        "def resolve(pkg, deps):\n",
        "    if pkg not in deps or not deps[pkg]:\n",
        "        print(pkg)\n",
        "        return\n",
        "    for d in deps[pkg]:\n",
        "        resolve(d, deps)\n",
        "    print(pkg)\n",
        "\n",
        "dependencies = {\n",
        "    \"app\": [\"core\", \"ui\"],\n",
        "    \"core\": [\"utils\", \"network\"],\n",
        "    \"utils\": [],\n",
        "    \"network\": [\"security\"],\n",
        "    \"ui\": [\"theme\"],\n",
        "    \"security\": [],\n",
        "    \"theme\": []\n",
        "}\n",
        "\n",
        "resolve(\"app\", dependencies)\n"
      ],
      "metadata": {
        "id": "OJlyWBDRnAkz",
        "colab": {
          "base_uri": "https://localhost:8080/"
        },
        "outputId": "2dedea0f-6497-4463-b7ec-292b18874ceb"
      },
      "execution_count": null,
      "outputs": [
        {
          "output_type": "stream",
          "name": "stdout",
          "text": [
            "utils\n",
            "security\n",
            "network\n",
            "core\n",
            "theme\n",
            "ui\n",
            "app\n"
          ]
        }
      ]
    },
    {
      "cell_type": "markdown",
      "source": [
        "12-10-2025\n"
      ],
      "metadata": {
        "id": "3ZIlzsKcswJU"
      }
    },
    {
      "cell_type": "code",
      "source": [
        "# to print min and max value\n",
        "arr=[1,4,3,0,10,-1,8,9,8,6]\n",
        "mini=0\n",
        "maxi=0\n",
        "for i in arr:\n",
        "  if i < mini:\n",
        "    mini=i\n",
        "  elif i > maxi:\n",
        "    maxi=i\n",
        "print(maxi)\n",
        "print(mini)"
      ],
      "metadata": {
        "id": "tHCyDIgGHKNs",
        "colab": {
          "base_uri": "https://localhost:8080/"
        },
        "outputId": "3f9a555e-b998-4175-fea5-9e4c741fa893"
      },
      "execution_count": null,
      "outputs": [
        {
          "output_type": "stream",
          "name": "stdout",
          "text": [
            "10\n",
            "-1\n"
          ]
        }
      ]
    },
    {
      "cell_type": "code",
      "source": [
        "arr=[2,4,1,3,5]\n",
        "first=arr[0]\n",
        "second=arr[0]\n",
        "third=arr[0]\n",
        "for i in arr:\n",
        "  if i>first:\n",
        "    third=second\n",
        "    second=first\n",
        "    first=i\n",
        "  elif i>second:\n",
        "    third=second\n",
        "    second=i\n",
        "  elif i>third:\n",
        "    third=i\n",
        "print(first)\n",
        "print(second)\n",
        "print(third)\n"
      ],
      "metadata": {
        "colab": {
          "base_uri": "https://localhost:8080/"
        },
        "id": "qzQnH527n5aw",
        "outputId": "2d5f88f5-576d-4107-a93f-41987740d528"
      },
      "execution_count": null,
      "outputs": [
        {
          "output_type": "stream",
          "name": "stdout",
          "text": [
            "5\n",
            "4\n",
            "3\n"
          ]
        }
      ]
    },
    {
      "cell_type": "code",
      "source": [],
      "metadata": {
        "id": "FP2AXR-1r6vC"
      },
      "execution_count": null,
      "outputs": []
    }
  ]
}